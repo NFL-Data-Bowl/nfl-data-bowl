{
 "cells": [
  {
   "cell_type": "markdown",
   "metadata": {},
   "source": [
    "##### multi class logistic regression isn't good for getting weights"
   ]
  },
  {
   "cell_type": "code",
   "execution_count": null,
   "metadata": {},
   "outputs": [],
   "source": [
    "import pandas as pd\n",
    "\n",
    "nearest_d = pd.read_csv(\"~/nfl-data-bowl/Sample_Data/Raw/nearest_defender_at_snap.csv\")\n",
    "thru_snap = pd.read_csv(\"~/nfl-data-bowl/Sample_Data/Raw/playersThroughSnap.csv\")\n",
    "off_mot = pd.read_csv(\"~/nfl-data-bowl/Sample_Data/Raw/processed_offensive_motion_plays.csv\")\n",
    "v_late  = pd.read_csv(\"~/nfl-data-bowl/Sample_Data/Raw/velocity_late_shifts.csv\")\n",
    "play_labels = pd.read_csv(\"~/nfl-data-bowl/Sample_Data/Raw/playlabels.csv\")\n",
    "\n",
    "\n",
    "\n",
    "thru_snap.rename(columns={'Game ID': 'gameId'}, inplace=True)\n",
    "thru_snap.rename(columns={'Play ID': 'playId'}, inplace=True)\n",
    "\n",
    "off_mot.rename(columns={'gameID': 'gameId'}, inplace=True)\n",
    "off_mot.rename(columns={'playID': 'playId'}, inplace=True)\n"
   ]
  },
  {
   "cell_type": "markdown",
   "metadata": {},
   "source": [
    "#### fuads file"
   ]
  },
  {
   "cell_type": "code",
   "execution_count": 11,
   "metadata": {},
   "outputs": [],
   "source": [
    "import pandas as pd\n",
    "\n",
    "aggregated_rows = []\n",
    "\n",
    "for (gameId, playId), group in v_late.groupby(['gameId', 'playId']):\n",
    "    team_total_distance = group['teamTotalDistance'].iloc[0]\n",
    "    team_average_speed = group['averageSpeed'].sum()\n",
    "    num_players_moved = group['numPlayerMoved'].iloc[0]\n",
    "\n",
    "    aggregated_rows.append({\n",
    "        'gameId': gameId,\n",
    "        'playId': playId,\n",
    "        'teamTotalDistance': team_total_distance,\n",
    "        'teamAverageSpeed': team_average_speed,\n",
    "        'numPlayerMoved': num_players_moved\n",
    "    })\n",
    "\n",
    "v_late_mod = pd.DataFrame(aggregated_rows)"
   ]
  },
  {
   "cell_type": "code",
   "execution_count": 14,
   "metadata": {},
   "outputs": [
    {
     "name": "stdout",
     "output_type": "stream",
     "text": [
      "(16124, 8)\n",
      "(3850, 6)\n",
      "(16124, 10)\n",
      "(12814, 5)\n",
      "(15740, 3)\n"
     ]
    }
   ],
   "source": [
    "print(nearest_d.shape)\n",
    "print(thru_snap.shape)\n",
    "print(off_mot.shape)\n",
    "print(v_late_mod.shape)\n",
    "print(play_labels.shape)"
   ]
  },
  {
   "cell_type": "code",
   "execution_count": 40,
   "metadata": {},
   "outputs": [],
   "source": [
    "merged_df = nearest_d.merge(thru_snap, on=['gameId', 'playId'], how='left')\n",
    "merged_df = merged_df.merge(off_mot, on=['gameId', 'playId'], how='inner')\n",
    "merged_df = merged_df.merge(v_late_mod, on=['gameId', 'playId'], how='inner')\n",
    "merged_df = merged_df.merge(play_labels, on=['gameId', 'playId'], how='inner')\n",
    "merged_df.fillna(0, inplace=True)"
   ]
  },
  {
   "cell_type": "code",
   "execution_count": null,
   "metadata": {},
   "outputs": [
    {
     "name": "stdout",
     "output_type": "stream",
     "text": [
      "0        0.5\n",
      "1        0.5\n",
      "2        0.5\n",
      "3        0.0\n",
      "4        0.0\n",
      "        ... \n",
      "12497    0.0\n",
      "12498    0.0\n",
      "12499    0.5\n",
      "12500    0.5\n",
      "12501    0.0\n",
      "Name: isConfused, Length: 12502, dtype: float64\n"
     ]
    }
   ],
   "source": [
    "merged_df['isConfused'] = merged_df['isConfused'].replace({0: 0, 1: 0.5, 2: 1})"
   ]
  },
  {
   "cell_type": "code",
   "execution_count": null,
   "metadata": {},
   "outputs": [
    {
     "name": "stdout",
     "output_type": "stream",
     "text": [
      "                            OLS Regression Results                            \n",
      "==============================================================================\n",
      "Dep. Variable:             isConfused   R-squared:                       0.005\n",
      "Model:                            OLS   Adj. R-squared:                  0.003\n",
      "Method:                 Least Squares   F-statistic:                     2.562\n",
      "Date:                Tue, 25 Mar 2025   Prob (F-statistic):           0.000109\n",
      "Time:                        10:10:51   Log-Likelihood:                -285.25\n",
      "No. Observations:               10001   AIC:                             614.5\n",
      "Df Residuals:                    9979   BIC:                             773.1\n",
      "Df Model:                          21                                         \n",
      "Covariance Type:            nonrobust                                         \n",
      "================================================================================================\n",
      "                                   coef    std err          t      P>|t|      [0.025      0.975]\n",
      "------------------------------------------------------------------------------------------------\n",
      "const                            0.3119      0.047      6.696      0.000       0.221       0.403\n",
      "Unnamed: 0                    3.308e-08   2.96e-08      1.116      0.265    -2.5e-08    9.12e-08\n",
      "nearest_defender_1           -8.165e-05      0.001     -0.080      0.936      -0.002       0.002\n",
      "nearest_defender_2               0.0035      0.001      3.635      0.000       0.002       0.005\n",
      "nearest_defender_3               0.0003      0.001      0.381      0.703      -0.001       0.002\n",
      "nearest_defender_4               0.0084      0.006      1.503      0.133      -0.003       0.019\n",
      "nearest_defender_5               0.0100      0.029      0.340      0.734      -0.048       0.068\n",
      "Moving Offensive Before Snap     0.0001      0.003      0.038      0.970      -0.006       0.006\n",
      "Moving Defensive Before Snap     0.0272      0.013      2.072      0.038       0.001       0.053\n",
      "Moving Offensive After Snap    -8.5e-05      0.004     -0.019      0.985      -0.009       0.009\n",
      "Moving Defensive After Snap     -0.0275      0.015     -1.833      0.067      -0.057       0.002\n",
      "segment_switch_count             0.0120      0.015      0.809      0.418      -0.017       0.041\n",
      "num_motions                      0.0044      0.028      0.155      0.876      -0.051       0.059\n",
      "num_motion_events               -0.0340      0.023     -1.452      0.147      -0.080       0.012\n",
      "num_defenders_react             -0.0115      0.017     -0.667      0.505      -0.045       0.022\n",
      "avg_sim_score                   -0.2972      0.167     -1.775      0.076      -0.625       0.031\n",
      "max_sim_score                    0.3261      0.169      1.929      0.054      -0.005       0.657\n",
      "var_sim_score                   -0.5219      0.566     -0.922      0.357      -1.631       0.588\n",
      "total_motion_duration            0.0008      0.000      1.678      0.093      -0.000       0.002\n",
      "teamTotalDistance               -0.0025      0.002     -1.233      0.218      -0.006       0.001\n",
      "teamAverageSpeed                 0.0021      0.004      0.557      0.578      -0.005       0.010\n",
      "numPlayerMoved                  -0.0057      0.004     -1.342      0.180      -0.014       0.003\n",
      "==============================================================================\n",
      "Omnibus:                    35071.229   Durbin-Watson:                   2.031\n",
      "Prob(Omnibus):                  0.000   Jarque-Bera (JB):             1632.029\n",
      "Skew:                          -0.106   Prob(JB):                         0.00\n",
      "Kurtosis:                       1.032   Cond. No.                     4.09e+07\n",
      "==============================================================================\n",
      "\n",
      "Notes:\n",
      "[1] Standard Errors assume that the covariance matrix of the errors is correctly specified.\n",
      "[2] The condition number is large, 4.09e+07. This might indicate that there are\n",
      "strong multicollinearity or other numerical problems.\n",
      "\n",
      "MSE: 0.0620\n",
      "R² (train): 0.0054\n",
      "\n",
      "Feature Importance (based on absolute coefficient values):\n",
      "var_sim_score                   5.218895e-01\n",
      "max_sim_score                   3.260596e-01\n",
      "avg_sim_score                   2.971581e-01\n",
      "num_motion_events               3.402463e-02\n",
      "Moving Defensive After Snap     2.751898e-02\n",
      "Moving Defensive Before Snap    2.716235e-02\n",
      "segment_switch_count            1.204414e-02\n",
      "num_defenders_react             1.148153e-02\n",
      "nearest_defender_5              1.000394e-02\n",
      "nearest_defender_4              8.420931e-03\n",
      "numPlayerMoved                  5.747292e-03\n",
      "num_motions                     4.364319e-03\n",
      "nearest_defender_2              3.483088e-03\n",
      "teamTotalDistance               2.468362e-03\n",
      "teamAverageSpeed                2.128215e-03\n",
      "total_motion_duration           8.381600e-04\n",
      "nearest_defender_3              3.123136e-04\n",
      "Moving Offensive Before Snap    1.101471e-04\n",
      "Moving Offensive After Snap     8.500266e-05\n",
      "nearest_defender_1              8.164974e-05\n",
      "Unnamed: 0                      3.307527e-08\n",
      "dtype: float64\n"
     ]
    }
   ],
   "source": [
    "import pandas as pd\n",
    "import numpy as np\n",
    "from sklearn.metrics import mean_squared_error\n",
    "import statsmodels.api as sm\n",
    "from sklearn.model_selection import train_test_split\n",
    "\n",
    "X = merged_df.drop(columns=['gameId', 'playId', 'isConfused'])\n",
    "y = merged_df['isConfused']\n",
    "\n",
    "# ---- Step 2: Train/Test Split ----\n",
    "X_train, X_test, y_train, y_test = train_test_split(X, y, test_size=0.2, random_state=42)\n",
    "\n",
    "# ---- Step 3: Add constant for intercept in statsmodels ----\n",
    "X_train_sm = sm.add_constant(X_train)  # adds intercept term\n",
    "X_test_sm = sm.add_constant(X_test)\n",
    "\n",
    "# ---- Step 4: Fit model ----\n",
    "model = sm.OLS(y_train, X_train_sm).fit()\n",
    "\n",
    "# ---- Step 5: Print model summary (p-values, R², coefficients) ----\n",
    "print(model.summary())\n",
    "\n",
    "# ---- Step 6: Predict and evaluate ----\n",
    "y_pred = model.predict(X_test_sm)\n",
    "mse = mean_squared_error(y_test, y_pred)\n",
    "r2 = model.rsquared\n",
    "\n",
    "print(f\"\\nMSE: {mse:.4f}\")\n",
    "print(f\"R² (train): {r2:.4f}\")\n",
    "\n",
    "# ---- Step 7: Feature Importance (absolute value of coefficients) ----\n",
    "importance = model.params[1:].abs().sort_values(ascending=False)  # skip the constant\n",
    "print(\"\\nFeature Importance (based on absolute coefficient values):\")\n",
    "print(importance)"
   ]
  },
  {
   "cell_type": "code",
   "execution_count": 41,
   "metadata": {},
   "outputs": [
    {
     "name": "stdout",
     "output_type": "stream",
     "text": [
      "isConfused\n",
      "0    5893\n",
      "1    5822\n",
      "2     787\n",
      "Name: count, dtype: int64\n",
      "isConfused\n",
      "0    5893\n",
      "1     787\n",
      "Name: count, dtype: int64\n",
      "Accuracy: 0.6145209580838323\n",
      "\n",
      "Classification Report:\n",
      "              precision    recall  f1-score   support\n",
      "\n",
      "           0       0.89      0.64      0.74      1170\n",
      "           1       0.15      0.45      0.23       166\n",
      "\n",
      "    accuracy                           0.61      1336\n",
      "   macro avg       0.52      0.54      0.48      1336\n",
      "weighted avg       0.80      0.61      0.68      1336\n",
      "\n",
      "\n",
      "Confusion Matrix:\n",
      "[[746 424]\n",
      " [ 91  75]]\n"
     ]
    }
   ],
   "source": [
    "from sklearn.linear_model import LogisticRegression\n",
    "from sklearn.metrics import accuracy_score, classification_report, confusion_matrix\n",
    "from sklearn.model_selection import train_test_split\n",
    "from sklearn.preprocessing import StandardScaler\n",
    "\n",
    "print(merged_df['isConfused'].value_counts())\n",
    "merged_df = merged_df[merged_df['isConfused'] != 1]\n",
    "merged_df['isConfused'] = merged_df['isConfused'].replace({2: 1})\n",
    "# ---- Step 1: Prepare features and target ----\n",
    "X = merged_df.drop(columns=['gameId', 'playId', 'isConfused', 'Unnamed: 0'])  # drop non-feature columns\n",
    "y = merged_df['isConfused'] \n",
    "print(merged_df['isConfused'].value_counts())\n",
    "\n",
    "X_train, X_test, y_train, y_test = train_test_split(X, y, test_size=0.2, random_state=42)\n",
    "\n",
    "scaler = StandardScaler()\n",
    "X_train_scaled = scaler.fit_transform(X_train)\n",
    "X_test_scaled = scaler.transform(X_test)\n",
    "\n",
    "logreg = LogisticRegression(solver='lbfgs', max_iter=1000, class_weight='balanced')\n",
    "logreg.fit(X_train_scaled, y_train)\n",
    "\n",
    "y_pred = logreg.predict(X_test_scaled)\n",
    "\n",
    "print(\"Accuracy:\", accuracy_score(y_test, y_pred))\n",
    "print(\"\\nClassification Report:\")\n",
    "print(classification_report(y_test, y_pred))\n",
    "\n",
    "print(\"\\nConfusion Matrix:\")\n",
    "print(confusion_matrix(y_test, y_pred))\n",
    "\n",
    "merged_df['isConfusedPredicted'] = logreg.predict(scaler.transform(X))\n",
    "\n",
    "merged_df.to_csv(\"~/nfl-data-bowl/Sample_Data/Raw/predicted_confusion_output.csv\", index=False)\n"
   ]
  },
  {
   "cell_type": "code",
   "execution_count": 42,
   "metadata": {},
   "outputs": [
    {
     "name": "stdout",
     "output_type": "stream",
     "text": [
      "                         Feature  Coefficient  Abs_Coefficient\n",
      "8    Moving Defensive After Snap     0.432351         0.432351\n",
      "12           num_defenders_react    -0.311308         0.311308\n",
      "16         total_motion_duration     0.252688         0.252688\n",
      "7    Moving Offensive After Snap    -0.212374         0.212374\n",
      "5   Moving Offensive Before Snap    -0.180320         0.180320\n",
      "11             num_motion_events     0.122496         0.122496\n",
      "2             nearest_defender_3     0.118090         0.118090\n",
      "6   Moving Defensive Before Snap    -0.102347         0.102347\n",
      "4             nearest_defender_5    -0.100626         0.100626\n",
      "17             teamTotalDistance    -0.100383         0.100383\n",
      "9           segment_switch_count     0.084080         0.084080\n",
      "3             nearest_defender_4     0.079802         0.079802\n",
      "15                 var_sim_score     0.060623         0.060623\n",
      "10                   num_motions     0.042799         0.042799\n",
      "13                 avg_sim_score     0.020993         0.020993\n",
      "18              teamAverageSpeed    -0.019881         0.019881\n",
      "1             nearest_defender_2     0.011656         0.011656\n",
      "14                 max_sim_score    -0.009771         0.009771\n",
      "19                numPlayerMoved    -0.004718         0.004718\n",
      "0             nearest_defender_1     0.003247         0.003247\n"
     ]
    }
   ],
   "source": [
    "coefficients = logreg.coef_[0]  # [0] because it's binary classification\n",
    "feature_names = X.columns\n",
    "\n",
    "# Create DataFrame of feature importance\n",
    "importance_df = pd.DataFrame({\n",
    "    'Feature': feature_names,\n",
    "    'Coefficient': coefficients,\n",
    "    'Abs_Coefficient': np.abs(coefficients)\n",
    "})\n",
    "\n",
    "# Sort by absolute importance\n",
    "importance_df = importance_df.sort_values(by='Abs_Coefficient', ascending=False)\n",
    "\n",
    "print(importance_df)"
   ]
  }
 ],
 "metadata": {
  "kernelspec": {
   "display_name": "Python 3",
   "language": "python",
   "name": "python3"
  },
  "language_info": {
   "codemirror_mode": {
    "name": "ipython",
    "version": 3
   },
   "file_extension": ".py",
   "mimetype": "text/x-python",
   "name": "python",
   "nbconvert_exporter": "python",
   "pygments_lexer": "ipython3",
   "version": "3.10.12"
  }
 },
 "nbformat": 4,
 "nbformat_minor": 2
}

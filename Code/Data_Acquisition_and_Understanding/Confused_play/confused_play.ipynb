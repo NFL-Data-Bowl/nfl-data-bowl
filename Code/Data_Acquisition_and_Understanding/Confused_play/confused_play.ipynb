{
 "cells": [
  {
   "cell_type": "markdown",
   "metadata": {},
   "source": [
    "# What is the best way to define a game confused\n"
   ]
  },
  {
   "cell_type": "markdown",
   "metadata": {},
   "source": [
    "passResult: Dropback outcome of the play (C: Complete pass, I: Incomplete pass, S: Quarterback sack, IN: Intercepted pass, R: Scramble, text)\n",
    "\n",
    "passLength: The distance beyond the LOS that the ball traveled not including yards into the endzone. If thrown behind LOS, the value is negative. (numeric)\n",
    "\n",
    "yardsGained: Net yards gained by the offense, including penalty yardage (numeric)\n",
    "\n",
    "expectedPointsAdded: Expected points added on this play (numeric)"
   ]
  },
  {
   "cell_type": "markdown",
   "metadata": {},
   "source": [
    "# 1st Plan\n",
    "\n",
    "Systematic strategy to label plays as \"confusing\" or not from the defense’s perspective\n",
    "\n",
    "A scoring system using several independent signals from the data. Each play will be assigned a confusion_score, and we’ll threshold that score to assign a binary label:\n",
    "\n",
    "Confused = 1 if confusion_score ≥ X (e.g. 3 or 4)\n",
    "\n",
    "Not Confused = 0 otherwise"
   ]
  },
  {
   "cell_type": "markdown",
   "metadata": {
    "vscode": {
     "languageId": "plaintext"
    }
   },
   "source": [
    "| Indicator                          | Points | Description                                                                                  | Data Source           |\n",
    "| ---------------------------------- | ------ | -------------------------------------------------------------------------------------------- | --------------------- |\n",
    "| Wide Open Receiver                 | +2     | No defender within 5 yards of the receiver at pass arrival                                   | tracking, player_play |\n",
    "| Coverage Misassignment             | +1     | Coverage assignment doesn't match tracking proximity                                         | player_play, tracking |\n",
    "| Multiple Defenders Shift Post-Snap | +1     | > 3 defenders had shiftSinceLineset == True                                                  | player_play           |\n",
    "| Pre-Snap Motion Confuses Defense   | +1     | Offense uses pre-snap motion; defenders also move (motionSinceLineset)                       | player_play, tracking |\n",
    "| Erratic Defender Directions        | +1     | High standard deviation in dir of defensive players 0.5s after snap                          | tracking              |\n",
    "| Pass Coverage Breakdown            | +1     | Zone assigned but defender leaves zone (based on pff_passCoverage vs location at pass catch) | player_play, tracking |\n",
    "| High EPA for Offense on Play       | +1     | expectedPointsAdded > 4                                                                      | play                  |\n",
    "| High Motion Count on Defense       | +1     | inMotionAtBallSnap == True for > 4 defenders                                                 | player_play           |\n"
   ]
  },
  {
   "cell_type": "markdown",
   "metadata": {},
   "source": [
    "# 2nd Plan\n",
    "\n",
    "LLM on `playDescription` to detect “chaotic,” “blown,” or “misaligned” plays based on wording. and try to identify id a game is confused or not and take that to train our model."
   ]
  }
 ],
 "metadata": {
  "kernelspec": {
   "display_name": "venv",
   "language": "python",
   "name": "python3"
  },
  "language_info": {
   "codemirror_mode": {
    "name": "ipython",
    "version": 3
   },
   "file_extension": ".py",
   "mimetype": "text/x-python",
   "name": "python",
   "nbconvert_exporter": "python",
   "pygments_lexer": "ipython3",
   "version": "3.10.12"
  }
 },
 "nbformat": 4,
 "nbformat_minor": 2
}

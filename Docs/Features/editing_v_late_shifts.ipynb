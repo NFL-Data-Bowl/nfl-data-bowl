{
 "cells": [
  {
   "cell_type": "markdown",
   "metadata": {},
   "source": [
    "## Diving into velocity of late shifts"
   ]
  },
  {
   "cell_type": "code",
   "execution_count": 4,
   "metadata": {},
   "outputs": [
    {
     "name": "stdout",
     "output_type": "stream",
     "text": [
      "      teamTotalDistance  teamAverageSpeed  numPlayerMoved\n",
      "0                 10.33           4.38800              11\n",
      "1                  5.22           2.36150              11\n",
      "2                 16.83           8.16100              11\n",
      "3                 11.52           5.59850              11\n",
      "4                 10.62           4.86350              11\n",
      "...                 ...               ...             ...\n",
      "6675               5.41           2.35700              11\n",
      "6676              15.32           7.25350              11\n",
      "6677               3.52           4.26375              11\n",
      "6678               6.37           2.90950              11\n",
      "6679               2.10           0.61450              10\n",
      "\n",
      "[6680 rows x 3 columns]\n"
     ]
    }
   ],
   "source": [
    "import pandas as pd\n",
    "\n",
    "output = pd.read_csv(\"~/nfl-data-bowl/Sample_Data/Raw/predicted_confusion_output.csv\")\n",
    "\n",
    "output = output[[\"teamTotalDistance\", \"teamAverageSpeed\", \"numPlayerMoved\"]]\n",
    "\n",
    "print(output)"
   ]
  },
  {
   "cell_type": "markdown",
   "metadata": {},
   "source": [
    "##### If you look at summary statistics, almost every play says 11 players shifted late. This won't help the model since every play is the exact same. You need to make the conditions more strict. Late shifts must be greater than blank speed, or blank distance etc... I'm going to look over a few plays to see what should actually be considered a \"late shift\"."
   ]
  },
  {
   "cell_type": "code",
   "execution_count": 5,
   "metadata": {},
   "outputs": [
    {
     "data": {
      "text/html": [
       "<div>\n",
       "<style scoped>\n",
       "    .dataframe tbody tr th:only-of-type {\n",
       "        vertical-align: middle;\n",
       "    }\n",
       "\n",
       "    .dataframe tbody tr th {\n",
       "        vertical-align: top;\n",
       "    }\n",
       "\n",
       "    .dataframe thead th {\n",
       "        text-align: right;\n",
       "    }\n",
       "</style>\n",
       "<table border=\"1\" class=\"dataframe\">\n",
       "  <thead>\n",
       "    <tr style=\"text-align: right;\">\n",
       "      <th></th>\n",
       "      <th>teamTotalDistance</th>\n",
       "      <th>teamAverageSpeed</th>\n",
       "      <th>numPlayerMoved</th>\n",
       "    </tr>\n",
       "  </thead>\n",
       "  <tbody>\n",
       "    <tr>\n",
       "      <th>count</th>\n",
       "      <td>6680.000000</td>\n",
       "      <td>6680.000000</td>\n",
       "      <td>6680.000000</td>\n",
       "    </tr>\n",
       "    <tr>\n",
       "      <th>mean</th>\n",
       "      <td>8.486623</td>\n",
       "      <td>3.987073</td>\n",
       "      <td>10.799701</td>\n",
       "    </tr>\n",
       "    <tr>\n",
       "      <th>std</th>\n",
       "      <td>4.549830</td>\n",
       "      <td>2.370522</td>\n",
       "      <td>0.589624</td>\n",
       "    </tr>\n",
       "    <tr>\n",
       "      <th>min</th>\n",
       "      <td>0.470000</td>\n",
       "      <td>0.047000</td>\n",
       "      <td>5.000000</td>\n",
       "    </tr>\n",
       "    <tr>\n",
       "      <th>25%</th>\n",
       "      <td>5.350000</td>\n",
       "      <td>2.372000</td>\n",
       "      <td>11.000000</td>\n",
       "    </tr>\n",
       "    <tr>\n",
       "      <th>50%</th>\n",
       "      <td>7.590000</td>\n",
       "      <td>3.511250</td>\n",
       "      <td>11.000000</td>\n",
       "    </tr>\n",
       "    <tr>\n",
       "      <th>75%</th>\n",
       "      <td>10.590000</td>\n",
       "      <td>5.047000</td>\n",
       "      <td>11.000000</td>\n",
       "    </tr>\n",
       "    <tr>\n",
       "      <th>max</th>\n",
       "      <td>41.680000</td>\n",
       "      <td>20.640000</td>\n",
       "      <td>11.000000</td>\n",
       "    </tr>\n",
       "  </tbody>\n",
       "</table>\n",
       "</div>"
      ],
      "text/plain": [
       "       teamTotalDistance  teamAverageSpeed  numPlayerMoved\n",
       "count        6680.000000       6680.000000     6680.000000\n",
       "mean            8.486623          3.987073       10.799701\n",
       "std             4.549830          2.370522        0.589624\n",
       "min             0.470000          0.047000        5.000000\n",
       "25%             5.350000          2.372000       11.000000\n",
       "50%             7.590000          3.511250       11.000000\n",
       "75%            10.590000          5.047000       11.000000\n",
       "max            41.680000         20.640000       11.000000"
      ]
     },
     "execution_count": 5,
     "metadata": {},
     "output_type": "execute_result"
    }
   ],
   "source": [
    "output.describe()"
   ]
  },
  {
   "cell_type": "code",
   "execution_count": null,
   "metadata": {},
   "outputs": [],
   "source": []
  }
 ],
 "metadata": {
  "kernelspec": {
   "display_name": "Python 3",
   "language": "python",
   "name": "python3"
  },
  "language_info": {
   "codemirror_mode": {
    "name": "ipython",
    "version": 3
   },
   "file_extension": ".py",
   "mimetype": "text/x-python",
   "name": "python",
   "nbconvert_exporter": "python",
   "pygments_lexer": "ipython3",
   "version": "3.10.12"
  }
 },
 "nbformat": 4,
 "nbformat_minor": 2
}

{
 "cells": [
  {
   "cell_type": "markdown",
   "metadata": {},
   "source": [
    "## Verifying nearest distance to reciever feature"
   ]
  },
  {
   "cell_type": "code",
   "execution_count": 2,
   "metadata": {},
   "outputs": [],
   "source": [
    "import pandas as pd\n",
    "\n",
    "plays = pd.read_csv(\"~/nfl-data-bowl/Sample_Data/Raw/plays.csv\")\n",
    "\n",
    "distance_feature = pd.read_csv(\"~/nfl-data-bowl/Sample_Data/Raw/nearest_defender_at_snap.csv\")"
   ]
  },
  {
   "cell_type": "code",
   "execution_count": 3,
   "metadata": {},
   "outputs": [
    {
     "name": "stdout",
     "output_type": "stream",
     "text": [
      "   Unnamed: 0      gameId  playId  nearest_defender_1  nearest_defender_2  \\\n",
      "0           0  2022091107     301                4.26                4.59   \n",
      "1          23  2022091113    3642                2.19                0.00   \n",
      "2          46  2022091111    2257                2.91                2.54   \n",
      "3          69  2022091107    3864                5.88                1.93   \n",
      "4          92  2022091105    3000                6.71                4.89   \n",
      "\n",
      "   nearest_defender_3  nearest_defender_4  nearest_defender_5  \n",
      "0                7.91                 0.0                 0.0  \n",
      "1                0.00                 0.0                 0.0  \n",
      "2                3.63                 0.0                 0.0  \n",
      "3                3.01                 0.0                 0.0  \n",
      "4                6.11                 0.0                 0.0  \n"
     ]
    }
   ],
   "source": [
    "print(distance_feature.head())"
   ]
  },
  {
   "cell_type": "code",
   "execution_count": 5,
   "metadata": {},
   "outputs": [
    {
     "name": "stdout",
     "output_type": "stream",
     "text": [
      "       gameId  playId  maxDistance averageDistance  numReceivers\n",
      "0  2022091107     301         7.91        5.586667             3\n",
      "1  2022091113    3642         2.19            2.19             1\n",
      "2  2022091111    2257         3.63        3.026667             3\n",
      "3  2022091107    3864         5.88        3.606667             3\n",
      "4  2022091105    3000         6.71        5.903333             3\n"
     ]
    }
   ],
   "source": [
    "import pandas as pd\n",
    "\n",
    "defender_cols = [col for col in distance_feature.columns if col.startswith(\"nearest_defender_\")]\n",
    "\n",
    "distance_feature['maxDistance'] = distance_feature[defender_cols].max(axis=1)\n",
    "\n",
    "distance_feature['averageDistance'] = (\n",
    "    distance_feature[defender_cols]\n",
    "    .replace(0, pd.NA) \n",
    "    .mean(axis=1, skipna=True)\n",
    ")\n",
    "\n",
    "distance_feature['numReceivers'] = (distance_feature[defender_cols] != 0).sum(axis=1)\n",
    "\n",
    "result = distance_feature[['gameId', 'playId', 'maxDistance', 'averageDistance', 'numReceivers']]\n",
    "\n",
    "print(result.head())"
   ]
  }
 ],
 "metadata": {
  "kernelspec": {
   "display_name": "Python 3",
   "language": "python",
   "name": "python3"
  },
  "language_info": {
   "codemirror_mode": {
    "name": "ipython",
    "version": 3
   },
   "file_extension": ".py",
   "mimetype": "text/x-python",
   "name": "python",
   "nbconvert_exporter": "python",
   "pygments_lexer": "ipython3",
   "version": "3.10.12"
  }
 },
 "nbformat": 4,
 "nbformat_minor": 2
}
